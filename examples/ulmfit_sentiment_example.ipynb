{
 "cells": [
  {
   "cell_type": "markdown",
   "metadata": {},
   "source": [
    "# Sentiment Analyzer Using ULMFit\n",
    "\n",
    "This notebook demonstrates how to use the [ULMFit model](https://arxiv.org/abs/1801.06146) implemented by `thai2fit` for sentiment analysis. We use a consolidated dataset with 34,607 online reviews including those from [JagerV3](https://github.com/JagerV3/sentiment_analysis_thai). We undersampled the reviews to have roughly 50/50 split.\n",
    "\n",
    "Our workflow is as follows:\n",
    "\n",
    "* Perform 85/15 train-validation split (use all data for actual sentiment analyzer)\n",
    "* Minimal text cleaning and tokenization using `newmm` engine of `pyThaiNLP`\n",
    "* Get embeddings of Wongnai dataset from all the data available (train and test sets)\n",
    "* Load pretrained Thai Wikipedia embeddings; for those embeddings which exist only in sentiment dataset, we use the average of Wikipedia embeddings instead\n",
    "* Train language model based on all the data available on Wongnai dataset\n",
    "* Replace the top and train the classifier based on the training set by gradual unfreezing\n",
    "\n",
    "We achieved validation perplexity at 39.86178 and validation accuracy at 89%. FastText benchmark has the performance of 72%."
   ]
  },
  {
   "cell_type": "markdown",
   "metadata": {},
   "source": [
    "## Imports"
   ]
  },
  {
   "cell_type": "code",
   "execution_count": 1,
   "metadata": {},
   "outputs": [],
   "source": [
    "%reload_ext autoreload\n",
    "%autoreload 2\n",
    "%matplotlib inline\n",
    "\n",
    "import numpy as np\n",
    "import pandas as pd\n",
    "import dill as pickle\n",
    "from collections import Counter\n",
    "from pathlib import Path\n",
    "from sklearn.model_selection import train_test_split\n",
    "\n",
    "from fastai import *\n",
    "from fastai.text import *\n",
    "import pythainlp\n",
    "from pythainlp.ulmfit import *\n",
    "\n",
    "\n",
    "DATA_PATH='../sent_data/'\n",
    "RAW_PATH = f'{DATA_PATH}raw/'\n",
    "MODEL_PATH = f'{DATA_PATH}models/'"
   ]
  },
  {
   "cell_type": "markdown",
   "metadata": {},
   "source": [
    "## Dataset\n",
    "\n",
    "The training data consists of 29,415 reviews from unknown number of reviewers relabled by us as positive (`1`) or negative (`0`). We use 85/15 train-validation split. The validation set has 5,192 reviews. No information accuracy is 52.5%. The dataset can be downloded [here](https://www.dropbox.com/s/onrddd8h3hezccn/sent_raw.csv?dl=0).\n",
    "\n",
    "Data path structure should be\n",
    "* `sent_data`\n",
    "    * `raw`: save the file here as `sent_raw.csv`\n",
    "    * `models`: store models"
   ]
  },
  {
   "cell_type": "code",
   "execution_count": 2,
   "metadata": {},
   "outputs": [
    {
     "data": {
      "text/html": [
       "<div>\n",
       "<style scoped>\n",
       "    .dataframe tbody tr th:only-of-type {\n",
       "        vertical-align: middle;\n",
       "    }\n",
       "\n",
       "    .dataframe tbody tr th {\n",
       "        vertical-align: top;\n",
       "    }\n",
       "\n",
       "    .dataframe thead th {\n",
       "        text-align: right;\n",
       "    }\n",
       "</style>\n",
       "<table border=\"1\" class=\"dataframe\">\n",
       "  <thead>\n",
       "    <tr style=\"text-align: right;\">\n",
       "      <th></th>\n",
       "      <th>target</th>\n",
       "      <th>text</th>\n",
       "    </tr>\n",
       "  </thead>\n",
       "  <tbody>\n",
       "    <tr>\n",
       "      <th>34526</th>\n",
       "      <td>1</td>\n",
       "      <td>พึ่งไปทานมาเมื่ออาทิตย์ที่แล้ว อร่อยมากเลยค่ะ</td>\n",
       "    </tr>\n",
       "    <tr>\n",
       "      <th>34527</th>\n",
       "      <td>1</td>\n",
       "      <td>เมื่อวานไปทานที่the mall บางกะปิ พนักงานน่ารัก...</td>\n",
       "    </tr>\n",
       "    <tr>\n",
       "      <th>34528</th>\n",
       "      <td>1</td>\n",
       "      <td>กินที่บางกะปิมา พนักงานใจดีทุกคนเลย</td>\n",
       "    </tr>\n",
       "    <tr>\n",
       "      <th>34529</th>\n",
       "      <td>1</td>\n",
       "      <td>ดีมากๆเรย สาขาเซนแจ้งพนักงานเฟรนลี่ทุกคนเรย</td>\n",
       "    </tr>\n",
       "    <tr>\n",
       "      <th>34530</th>\n",
       "      <td>1</td>\n",
       "      <td>อาหารอร่อยมีให้เลือกเยอะมาก</td>\n",
       "    </tr>\n",
       "  </tbody>\n",
       "</table>\n",
       "</div>"
      ],
      "text/plain": [
       "       target                                               text\n",
       "34526       1      พึ่งไปทานมาเมื่ออาทิตย์ที่แล้ว อร่อยมากเลยค่ะ\n",
       "34527       1  เมื่อวานไปทานที่the mall บางกะปิ พนักงานน่ารัก...\n",
       "34528       1                กินที่บางกะปิมา พนักงานใจดีทุกคนเลย\n",
       "34529       1   ดีมากๆเรย สาขาเซนแจ้งพนักงานเฟรนลี่ทุกคนเรย     \n",
       "34530       1                        อาหารอร่อยมีให้เลือกเยอะมาก"
      ]
     },
     "execution_count": 2,
     "metadata": {},
     "output_type": "execute_result"
    }
   ],
   "source": [
    "df = pd.read_csv(f'{RAW_PATH}sent_raw.csv')\n",
    "df = df.drop('src',1)\n",
    "df.query('target==1').tail()"
   ]
  },
  {
   "cell_type": "code",
   "execution_count": 3,
   "metadata": {},
   "outputs": [
    {
     "data": {
      "text/html": [
       "<div>\n",
       "<style scoped>\n",
       "    .dataframe tbody tr th:only-of-type {\n",
       "        vertical-align: middle;\n",
       "    }\n",
       "\n",
       "    .dataframe tbody tr th {\n",
       "        vertical-align: top;\n",
       "    }\n",
       "\n",
       "    .dataframe thead th {\n",
       "        text-align: right;\n",
       "    }\n",
       "</style>\n",
       "<table border=\"1\" class=\"dataframe\">\n",
       "  <thead>\n",
       "    <tr style=\"text-align: right;\">\n",
       "      <th></th>\n",
       "      <th>target</th>\n",
       "      <th>text</th>\n",
       "    </tr>\n",
       "  </thead>\n",
       "  <tbody>\n",
       "    <tr>\n",
       "      <th>34602</th>\n",
       "      <td>0</td>\n",
       "      <td>เอาของเก่ามาขาย ใช้น้ำมันเก่ามาทอด ขายให้ลูกค้...</td>\n",
       "    </tr>\n",
       "    <tr>\n",
       "      <th>34603</th>\n",
       "      <td>0</td>\n",
       "      <td>แอดมินเพจทำงานแย่มากนะคะ ไม่อินบ๊อกซ์แจ้งผู้โช...</td>\n",
       "    </tr>\n",
       "    <tr>\n",
       "      <th>34604</th>\n",
       "      <td>0</td>\n",
       "      <td>ไปซื้อพิซซ่า สาขาถ.จันทร์ สั่งพิซซ่ามาสองกล่อง...</td>\n",
       "    </tr>\n",
       "    <tr>\n",
       "      <th>34605</th>\n",
       "      <td>0</td>\n",
       "      <td>พนักงานน่ายังกะส้นตีน สงสัยทะเลาะกับผัวมา พูดอ...</td>\n",
       "    </tr>\n",
       "    <tr>\n",
       "      <th>34606</th>\n",
       "      <td>0</td>\n",
       "      <td>รับปรุงด่วนเลยครับ เรื่องเวลาเสริฟให้ลูกค้า นา...</td>\n",
       "    </tr>\n",
       "  </tbody>\n",
       "</table>\n",
       "</div>"
      ],
      "text/plain": [
       "       target                                               text\n",
       "34602       0  เอาของเก่ามาขาย ใช้น้ำมันเก่ามาทอด ขายให้ลูกค้...\n",
       "34603       0  แอดมินเพจทำงานแย่มากนะคะ ไม่อินบ๊อกซ์แจ้งผู้โช...\n",
       "34604       0  ไปซื้อพิซซ่า สาขาถ.จันทร์ สั่งพิซซ่ามาสองกล่อง...\n",
       "34605       0  พนักงานน่ายังกะส้นตีน สงสัยทะเลาะกับผัวมา พูดอ...\n",
       "34606       0  รับปรุงด่วนเลยครับ เรื่องเวลาเสริฟให้ลูกค้า นา..."
      ]
     },
     "execution_count": 3,
     "metadata": {},
     "output_type": "execute_result"
    }
   ],
   "source": [
    "df.query('target==0').tail()"
   ]
  },
  {
   "cell_type": "code",
   "execution_count": 4,
   "metadata": {},
   "outputs": [
    {
     "name": "stdout",
     "output_type": "stream",
     "text": [
      "(34607, 2)\n"
     ]
    },
    {
     "data": {
      "text/plain": [
       "Counter({1: 16451, 0: 18156})"
      ]
     },
     "execution_count": 4,
     "metadata": {},
     "output_type": "execute_result"
    }
   ],
   "source": [
    "print(df.shape)\n",
    "cnt = Counter(df['target'])\n",
    "cnt"
   ]
  },
  {
   "cell_type": "code",
   "execution_count": 5,
   "metadata": {},
   "outputs": [
    {
     "data": {
      "text/plain": [
       "0.5246337446181408"
      ]
     },
     "execution_count": 5,
     "metadata": {},
     "output_type": "execute_result"
    }
   ],
   "source": [
    "#baseline\n",
    "cnt.most_common(1)[0][1] / df.shape[0]"
   ]
  },
  {
   "cell_type": "code",
   "execution_count": 6,
   "metadata": {},
   "outputs": [],
   "source": [
    "#train/validation/train_language_model split for fasttext\n",
    "df_trn, df_val = train_test_split(df, test_size = 0.15, random_state = 1412)\n",
    "\n",
    "df.to_csv(f'{DATA_PATH}df_all.csv', header=False, index=False)\n",
    "df_trn.to_csv(f'{DATA_PATH}train.csv', header=False, index=False)\n",
    "df_val.to_csv(f'{DATA_PATH}valid.csv', header=False, index=False)"
   ]
  },
  {
   "cell_type": "markdown",
   "metadata": {},
   "source": [
    "## Language Modeling"
   ]
  },
  {
   "cell_type": "markdown",
   "metadata": {},
   "source": [
    "### Text Processing"
   ]
  },
  {
   "cell_type": "markdown",
   "metadata": {},
   "source": [
    "We first determine the vocab for the reviews, then train a language model based on our training set. We perform the following  text processing:\n",
    "\n",
    "* Fix html tags to plain texts\n",
    "* Lowercase all English words and if a word is written in all caps, we put it in a lower case and add `xxup` before\n",
    "* Repetitive characters: Thai usually emphasizes adjectives by repeating the last character such as `อร่อยมากกกกกกก` to `อร่อยมาก xxrep 7 ` so that the word still retains its original form. \n",
    "* Normalize character order: for instance `นำ้` to `น้ำ`\n",
    "* Add spaces around / and #\n",
    "* Remove multiple spaces and newlines\n",
    "* Remove empty brackets of all types (`([{`) which might result from cleaning up\n",
    "* `pyThaiNLP`'s `newmm` word tokenizer with frozen dictionary (`engine ='ulmfit'`)  is used to tokenize the texts."
   ]
  },
  {
   "cell_type": "code",
   "execution_count": 9,
   "metadata": {},
   "outputs": [],
   "source": [
    "# tt = Tokenizer(tok_func = ThaiTokenizer, lang = 'th', rules = thai_rules)\n",
    "# data_lm = TextLMDataBunch.from_csv(path = Path(DATA_PATH),csv_name='df_all.csv',valid_pct=0.1,\n",
    "#                                   tokenizer=tt, vocab = None)\n",
    "# data_lm.save('sent_lm')"
   ]
  },
  {
   "cell_type": "code",
   "execution_count": 8,
   "metadata": {},
   "outputs": [],
   "source": [
    "data_lm = TextLMDataBunch.load(DATA_PATH,'sent_lm',bs=64)"
   ]
  },
  {
   "cell_type": "code",
   "execution_count": 9,
   "metadata": {},
   "outputs": [
    {
     "data": {
      "text/plain": [
       "11123"
      ]
     },
     "execution_count": 9,
     "metadata": {},
     "output_type": "execute_result"
    }
   ],
   "source": [
    "len(data_lm.vocab.itos)"
   ]
  },
  {
   "cell_type": "code",
   "execution_count": 10,
   "metadata": {},
   "outputs": [
    {
     "data": {
      "text/plain": [
       "(3461, 31145)"
      ]
     },
     "execution_count": 10,
     "metadata": {},
     "output_type": "execute_result"
    }
   ],
   "source": [
    "len(data_lm.valid_ds), len(data_lm.train_ds)"
   ]
  },
  {
   "cell_type": "markdown",
   "metadata": {},
   "source": [
    "### Load Pretrained Language Model"
   ]
  },
  {
   "cell_type": "markdown",
   "metadata": {},
   "source": [
    "Instead of starting from random weights, we import the language model pretrained on Wikipedia (see `pretrained_wiki.ipynb`). For words that appear only in the Wongnai dataset but not Wikipedia, we start with the average of all embeddings instead."
   ]
  },
  {
   "cell_type": "code",
   "execution_count": 11,
   "metadata": {},
   "outputs": [
    {
     "data": {
      "text/plain": [
       "(torch.Size([11123, 300]), 18)"
      ]
     },
     "execution_count": 11,
     "metadata": {},
     "output_type": "execute_result"
    }
   ],
   "source": [
    "#get pretrained models via pythainlp\n",
    "model_path,itos_path = pythainlp.ulmfit._THWIKI_LSTM\n",
    "\n",
    "wgts = torch.load(f'{model_path}.pth', map_location=lambda storage, loc: storage)\n",
    "itos_lstm = pickle.load(open(f'{itos_path}.pkl','rb'))\n",
    "wgts = merge_wgts(300, wgts, itos_lstm, data_lm.vocab.itos)\n",
    "wgts['0.encoder.weight'].shape, len(wgts.keys())"
   ]
  },
  {
   "cell_type": "markdown",
   "metadata": {},
   "source": [
    "### Train Domain-Specific Language Model"
   ]
  },
  {
   "cell_type": "code",
   "execution_count": 22,
   "metadata": {},
   "outputs": [],
   "source": [
    "#heuristic reference from imdb_scripts\n",
    "learn = language_model_learner(data_lm, bptt = 70, emb_sz = 300, nh = 1150, nl = 3,\n",
    "                                  drop_mult = 0.7, bias = False, qrnn = False, \n",
    "                                  alpha=2, beta = 1,\n",
    "                                  pretrained_fnames = None)\n",
    "learn.metrics = [accuracy]\n",
    "learn.opt_func = partial(optim.Adam, betas=(0.8, 0.99))\n",
    "learn.wd = 1e-7\n",
    "#VERY IMPORTANT TO LOAD PRETRAINED WEIGHTS\n",
    "learn.model.load_state_dict(wgts)"
   ]
  },
  {
   "cell_type": "markdown",
   "metadata": {},
   "source": [
    "If you want to use the QRNN version use the following `language_model_learner` instead."
   ]
  },
  {
   "cell_type": "code",
   "execution_count": 13,
   "metadata": {},
   "outputs": [],
   "source": [
    "# learn = language_model_learner(data_lm, bptt = 70, emb_sz = 400, nh = 1550, nl = 3,\n",
    "#                                   drop_mult = 0.3, bias = True, qrnn = True, \n",
    "#                                   alpha=2, beta = 1,\n",
    "#                                   pretrained_fnames = pythainlp.ulmfit._THWIKI_QRNN)\n",
    "# learn.metrics = [accuracy]\n",
    "# learn.opt_func = partial(optim.Adam, betas=(0.8, 0.99))\n",
    "# learn.wd = 1e-7"
   ]
  },
  {
   "cell_type": "code",
   "execution_count": 18,
   "metadata": {},
   "outputs": [
    {
     "name": "stdout",
     "output_type": "stream",
     "text": [
      "LR Finder is complete, type {learner_name}.recorder.plot() to see the graph.\n"
     ]
    },
    {
     "data": {
      "image/png": "[encoded data removed]",
      "text/plain": [
       "<Figure size 432x288 with 1 Axes>"
      ]
     },
     "metadata": {},
     "output_type": "display_data"
    }
   ],
   "source": [
    "learn.lr_find()\n",
    "learn.recorder.plot()"
   ]
  },
  {
   "cell_type": "code",
   "execution_count": 23,
   "metadata": {},
   "outputs": [],
   "source": [
    "#optimal learning rate and wd\n",
    "lr = 0.05 / 10\n",
    "wd = 1e-7\n",
    "learn.freeze()"
   ]
  },
  {
   "cell_type": "code",
   "execution_count": 24,
   "metadata": {},
   "outputs": [
    {
     "name": "stdout",
     "output_type": "stream",
     "text": [
      "Total time: 01:49\n",
      "epoch  train_loss  valid_loss  accuracy\n",
      "1      4.458854    4.235346    0.314211  (01:49)\n",
      "\n"
     ]
    }
   ],
   "source": [
    "#train frozen to warm up\n",
    "learn.fit_one_cycle(cyc_len = 1, \n",
    "                    max_lr= lr, #learning rate\n",
    "                    div_factor=20, #factor to discount from max\n",
    "                    moms = (0.8, 0.7), #momentums\n",
    "                    pct_start = 0.3, #where the peak is at \n",
    "                    wd = wd #weight decay\n",
    "                   ) "
   ]
  },
  {
   "cell_type": "code",
   "execution_count": 25,
   "metadata": {},
   "outputs": [
    {
     "name": "stdout",
     "output_type": "stream",
     "text": [
      "Total time: 07:00\n",
      "epoch  train_loss  valid_loss  accuracy\n",
      "1      4.118326    4.012748    0.332127  (02:20)\n",
      "2      3.875142    3.810460    0.347802  (02:19)\n",
      "3      3.633786    3.742740    0.354012  (02:20)\n",
      "\n"
     ]
    }
   ],
   "source": [
    "#train unfrozen\n",
    "learn.unfreeze()\n",
    "learn.fit_one_cycle(cyc_len = 3, \n",
    "                    max_lr= lr, #learning rate\n",
    "                    div_factor=20, #factor to discount from max\n",
    "                    moms = (0.8, 0.7), #momentums\n",
    "                    pct_start = 0.3, #where the peak is at \n",
    "                    wd = wd #weight decay\n",
    "                   ) "
   ]
  },
  {
   "cell_type": "code",
   "execution_count": 26,
   "metadata": {},
   "outputs": [
    {
     "data": {
      "image/png": "[encoded data removed]",
      "text/plain": [
       "<Figure size 432x288 with 1 Axes>"
      ]
     },
     "metadata": {},
     "output_type": "display_data"
    }
   ],
   "source": [
    "learn.recorder.plot_losses()\n",
    "learn.save('sent_lm_lstm')\n",
    "learn.save_encoder('sent_enc_lstm')"
   ]
  },
  {
   "cell_type": "markdown",
   "metadata": {},
   "source": [
    "### Eye-balling Finetuned Language Model"
   ]
  },
  {
   "cell_type": "markdown",
   "metadata": {},
   "source": [
    "In order to get a sense of how 'good' our finetuned language model is at understanding domain-specific texts, we can use the model to try predicting the next word and sentence."
   ]
  },
  {
   "cell_type": "code",
   "execution_count": 27,
   "metadata": {},
   "outputs": [
    {
     "data": {
      "text/plain": [
       "[' ', 'นะ', 'ครับ', 'ค่ะ', 'ที่สุด', 'เลย', 'อยู่', 'ที่', 'มาก', 'คะ']"
      ]
     },
     "execution_count": 27,
     "metadata": {},
     "output_type": "execute_result"
    }
   ],
   "source": [
    "predict_word('ร้านนี้ดี',learn,data_lm, topk =10)"
   ]
  },
  {
   "cell_type": "code",
   "execution_count": 28,
   "metadata": {},
   "outputs": [
    {
     "data": {
      "text/plain": [
       "'อยู่ในซอยสุขุมวิท 50 (ซอย) อยู่ฝั่งตรงข้ามกับ'"
      ]
     },
     "execution_count": 28,
     "metadata": {},
     "output_type": "execute_result"
    }
   ],
   "source": [
    "''.join(predict_sentence('ร้านนี้',learn,data_lm, nb_words = 15))"
   ]
  },
  {
   "cell_type": "markdown",
   "metadata": {},
   "source": [
    "## Classification"
   ]
  },
  {
   "cell_type": "markdown",
   "metadata": {},
   "source": [
    "With the language model trained on the dataset, we use its embeddings to initialize the sentiment analyzer. We train the classifier using discriminative learning rates, slanted triangular learning rates, gradual unfreezing and a few other tricks detailed in the [ULMFit paper](https://arxiv.org/abs/1801.06146). We have found that training only the last two layers of the model seems to be the right balance for this dataset."
   ]
  },
  {
   "cell_type": "markdown",
   "metadata": {},
   "source": [
    "### Data Bunch"
   ]
  },
  {
   "cell_type": "markdown",
   "metadata": {},
   "source": [
    "Create another data bunch this time for classification, using the same vocab as the our finetuned language model."
   ]
  },
  {
   "cell_type": "code",
   "execution_count": 87,
   "metadata": {},
   "outputs": [],
   "source": [
    "# tt = Tokenizer(tok_func = ThaiTokenizer, lang = 'th', rules = thai_rules)\n",
    "# data_clas = TextClasDataBunch.from_df(path=Path(DATA_PATH), train_df = df_trn, valid_df = df_val, \n",
    "#                                        tokenizer=tt, vocab=data_lm.vocab)\n",
    "# data_clas.save('sent_clas')"
   ]
  },
  {
   "cell_type": "code",
   "execution_count": 92,
   "metadata": {},
   "outputs": [],
   "source": [
    "data_clas = TextClasDataBunch.load(DATA_PATH,'sent_clas',bs=64)"
   ]
  },
  {
   "cell_type": "code",
   "execution_count": 93,
   "metadata": {},
   "outputs": [
    {
     "data": {
      "text/plain": [
       "[0, 1]"
      ]
     },
     "execution_count": 93,
     "metadata": {},
     "output_type": "execute_result"
    }
   ],
   "source": [
    "data_clas.train_ds.y.classes"
   ]
  },
  {
   "cell_type": "code",
   "execution_count": 94,
   "metadata": {},
   "outputs": [
    {
     "data": {
      "text/plain": [
       "Counter({0: 15460, 1: 13955})"
      ]
     },
     "execution_count": 94,
     "metadata": {},
     "output_type": "execute_result"
    }
   ],
   "source": [
    "Counter([int(i) for i in data_clas.train_ds.y])"
   ]
  },
  {
   "cell_type": "code",
   "execution_count": 95,
   "metadata": {},
   "outputs": [
    {
     "data": {
      "text/plain": [
       "Counter({0: 2696, 1: 2496})"
      ]
     },
     "execution_count": 95,
     "metadata": {},
     "output_type": "execute_result"
    }
   ],
   "source": [
    "Counter([int(i) for i in data_clas.valid_ds.y])"
   ]
  },
  {
   "cell_type": "code",
   "execution_count": 96,
   "metadata": {},
   "outputs": [
    {
     "data": {
      "text/plain": [
       "True"
      ]
     },
     "execution_count": 96,
     "metadata": {},
     "output_type": "execute_result"
    }
   ],
   "source": [
    "#check if using right vocab\n",
    "len(data_clas.vocab.itos)==len(data_lm.vocab.itos)"
   ]
  },
  {
   "cell_type": "code",
   "execution_count": 97,
   "metadata": {},
   "outputs": [
    {
     "data": {
      "text/plain": [
       "11123"
      ]
     },
     "execution_count": 97,
     "metadata": {},
     "output_type": "execute_result"
    }
   ],
   "source": [
    "len(data_clas.vocab.itos)"
   ]
  },
  {
   "cell_type": "markdown",
   "metadata": {},
   "source": [
    "### Model"
   ]
  },
  {
   "cell_type": "markdown",
   "metadata": {},
   "source": [
    "We create a text classifier by combining our finetuned encoder with a linear model. For larger datasets use lower `drop_mult` for more regularization, and vice versa."
   ]
  },
  {
   "cell_type": "code",
   "execution_count": 118,
   "metadata": {},
   "outputs": [],
   "source": [
    "#heuristic reference from imdb_scripts\n",
    "learn = text_classifier_learner(data_clas, bptt = 70, emb_sz = 300, nh = 1150, nl = 3,\n",
    "                                  drop_mult = 0.5, clip =25.,\n",
    "                                  alpha=2, beta = 1)\n",
    "learn.metrics = [accuracy]\n",
    "learn.opt_func = partial(optim.Adam, betas=(0.7, 0.99))\n",
    "#VERY IMPORTANT TO LOAD ENCODER\n",
    "learn.load_encoder('sent_enc_lstm')"
   ]
  },
  {
   "cell_type": "code",
   "execution_count": 109,
   "metadata": {},
   "outputs": [
    {
     "name": "stdout",
     "output_type": "stream",
     "text": [
      "LR Finder is complete, type {learner_name}.recorder.plot() to see the graph.\n"
     ]
    },
    {
     "data": {
      "image/png": "[encoded data removed]",
      "text/plain": [
       "<Figure size 432x288 with 1 Axes>"
      ]
     },
     "metadata": {},
     "output_type": "display_data"
    }
   ],
   "source": [
    "#select max lr\n",
    "learn.lr_find()\n",
    "learn.recorder.plot()"
   ]
  },
  {
   "cell_type": "markdown",
   "metadata": {},
   "source": [
    "### Training"
   ]
  },
  {
   "cell_type": "markdown",
   "metadata": {},
   "source": [
    "We gradually unfreeze from the last layer through to the whole model with discriminative learning rates, higher learning rates for the later layers. We usually pick the max learning rate as the point where the decrease in loss is steepest and decreases it as we train earlier layers."
   ]
  },
  {
   "cell_type": "code",
   "execution_count": 110,
   "metadata": {},
   "outputs": [
    {
     "name": "stdout",
     "output_type": "stream",
     "text": [
      "Total time: 10:35\n",
      "epoch  train_loss  valid_loss  accuracy\n",
      "1      0.416545    0.345185    0.861903  (02:15)\n",
      "2      0.392177    0.336243    0.864599  (01:51)\n",
      "3      0.378507    0.327924    0.864214  (01:58)\n",
      "4      0.378574    0.320207    0.873844  (02:14)\n",
      "5      0.388053    0.320264    0.874230  (02:15)\n",
      "\n"
     ]
    }
   ],
   "source": [
    "#frozen\n",
    "lr = 0.01\n",
    "learn.freeze_to(-1)\n",
    "learn.fit_one_cycle(cyc_len = 5, \n",
    "                    max_lr= slice(lr/(2.6**4),lr), #learning rate\n",
    "                    div_factor=10, #factor to discount from max\n",
    "                    moms = (0.8, 0.7), #momentums\n",
    "                    pct_start = 0.1, #where the peak is at \n",
    "                    wd = 1e-7\n",
    "                   ) \n",
    "learn.save('frozen')"
   ]
  },
  {
   "cell_type": "code",
   "execution_count": 111,
   "metadata": {},
   "outputs": [
    {
     "name": "stdout",
     "output_type": "stream",
     "text": [
      "Total time: 12:53\n",
      "epoch  train_loss  valid_loss  accuracy\n",
      "1      0.311486    0.305556    0.883282  (02:27)\n",
      "2      0.320408    0.317023    0.879623  (02:39)\n",
      "3      0.289731    0.285402    0.893297  (02:33)\n",
      "4      0.273263    0.277213    0.892720  (02:42)\n",
      "5      0.223639    0.281888    0.894260  (02:31)\n",
      "\n"
     ]
    }
   ],
   "source": [
    "#gradual unfreeze 1\n",
    "learn.load('frozen')\n",
    "lr = 0.01\n",
    "learn.freeze_to(-2)\n",
    "learn.fit_one_cycle(cyc_len = 5, \n",
    "                    max_lr= slice(lr/(2.6**4),lr), #learning rate\n",
    "                    div_factor=10, #factor to discount from max\n",
    "                    moms = (0.8, 0.7), #momentums\n",
    "                    pct_start = 0.1, #where the peak is at \n",
    "                    wd = 1e-7\n",
    "                   ) \n",
    "learn.save('unfreeze_1')"
   ]
  },
  {
   "cell_type": "code",
   "execution_count": 119,
   "metadata": {},
   "outputs": [
    {
     "name": "stdout",
     "output_type": "stream",
     "text": [
      "Total time: 11:36\n",
      "epoch  train_loss  valid_loss  accuracy\n",
      "1      0.256176    0.284819    0.892527  (03:56)\n",
      "2      0.231310    0.282900    0.890216  (04:09)\n",
      "3      0.183823    0.298039    0.893683  (03:29)\n",
      "\n"
     ]
    }
   ],
   "source": [
    "#gradual unfreeze 2\n",
    "learn.load('unfreeze_1')\n",
    "lr = 0.01/2\n",
    "learn.freeze_to(-3)\n",
    "learn.fit_one_cycle(cyc_len = 3, \n",
    "                    max_lr= slice(lr/(2.6**4),lr), #learning rate\n",
    "                    div_factor=10, #factor to discount from max\n",
    "                    moms = (0.8, 0.7), #momentums\n",
    "                    pct_start = 0.1, #where the peak is at \n",
    "                    wd = 1e-7\n",
    "                   ) \n",
    "learn.save('unfreeze_2')"
   ]
  },
  {
   "cell_type": "code",
   "execution_count": 103,
   "metadata": {},
   "outputs": [
    {
     "name": "stdout",
     "output_type": "stream",
     "text": [
      "Total time: 15:20\n",
      "epoch  train_loss  valid_loss  accuracy\n",
      "1      0.303518    0.289784    0.891949  (05:12)\n",
      "2      0.279527    0.281602    0.895416  (05:34)\n",
      "3      0.291195    0.291165    0.887904  (04:33)\n",
      "\n"
     ]
    }
   ],
   "source": [
    "#unfrozen\n",
    "learn.load('unfreeze_2')\n",
    "learn.unfreeze()\n",
    "lr = 0.01/4\n",
    "learn.fit_one_cycle(cyc_len = 5, \n",
    "                    max_lr= slice(lr/(2.6**4),lr), #learning rate\n",
    "                    div_factor=10, #factor to discount from max\n",
    "                    moms = (0.8, 0.7), #momentums\n",
    "                    pct_start = 0.1, #where the peak is at \n",
    "                    wd = 1e-7\n",
    "                   ) \n",
    "learn.save('unfrozen')"
   ]
  },
  {
   "cell_type": "markdown",
   "metadata": {},
   "source": [
    "## Validation Performance"
   ]
  },
  {
   "cell_type": "markdown",
   "metadata": {},
   "source": [
    "`unfreeze_1` seems to have the best validation performance so we will use it for the validation."
   ]
  },
  {
   "cell_type": "code",
   "execution_count": 120,
   "metadata": {},
   "outputs": [],
   "source": [
    "learn.load('unfreeze_1')\n",
    "#get validation performance\n",
    "probs,y= learn.get_preds()\n",
    "probs = probs.numpy()\n",
    "y = y.numpy()\n",
    "preds = np.argmax(probs,1)"
   ]
  },
  {
   "cell_type": "code",
   "execution_count": 121,
   "metadata": {},
   "outputs": [
    {
     "data": {
      "text/plain": [
       "[0, 1]"
      ]
     },
     "execution_count": 121,
     "metadata": {},
     "output_type": "execute_result"
    }
   ],
   "source": [
    "data_clas.y.classes"
   ]
  },
  {
   "cell_type": "code",
   "execution_count": 122,
   "metadata": {},
   "outputs": [],
   "source": [
    "#index to class\n",
    "y = np.array([data_clas.train_ds.y.classes[i] for i in y])\n",
    "preds = np.array([data_clas.train_ds.y.classes[i] for i in preds])"
   ]
  },
  {
   "cell_type": "code",
   "execution_count": 123,
   "metadata": {},
   "outputs": [],
   "source": [
    "#plotting\n",
    "def plot_confusion_matrix(cm, classes,\n",
    "                          normalize=False,\n",
    "                          title='Confusion matrix',\n",
    "                          cmap=plt.cm.Blues):\n",
    "    \"\"\"\n",
    "    This function prints and plots the confusion matrix.\n",
    "    Normalization can be applied by setting `normalize=True`.\n",
    "    \"\"\"\n",
    "    if normalize:\n",
    "        cm = cm.astype('float') / cm.sum(axis=1)[:, np.newaxis]\n",
    "        print(\"Normalized confusion matrix\")\n",
    "    else:\n",
    "        print('Confusion matrix, without normalization')\n",
    "\n",
    "    print(cm)\n",
    "\n",
    "    plt.imshow(cm, interpolation='nearest', cmap=cmap)\n",
    "    plt.title(title)\n",
    "    plt.colorbar()\n",
    "    tick_marks = np.arange(len(classes))\n",
    "    plt.xticks(tick_marks, classes, rotation=45)\n",
    "    plt.yticks(tick_marks, classes)\n",
    "\n",
    "    fmt = '.2f' if normalize else 'd'\n",
    "    thresh = cm.max() / 2.\n",
    "    for i, j in itertools.product(range(cm.shape[0]), range(cm.shape[1])):\n",
    "        plt.text(j, i, format(cm[i, j], fmt),\n",
    "                 horizontalalignment=\"center\",\n",
    "                 color=\"white\" if cm[i, j] > thresh else \"black\")\n",
    "\n",
    "    plt.tight_layout()\n",
    "    plt.ylabel('True label')\n",
    "    plt.xlabel('Predicted label')"
   ]
  },
  {
   "cell_type": "code",
   "execution_count": 124,
   "metadata": {},
   "outputs": [
    {
     "data": {
      "text/plain": [
       "Counter({1: 2496, 0: 2696})"
      ]
     },
     "execution_count": 124,
     "metadata": {},
     "output_type": "execute_result"
    }
   ],
   "source": [
    "Counter(y)"
   ]
  },
  {
   "cell_type": "code",
   "execution_count": 127,
   "metadata": {},
   "outputs": [
    {
     "name": "stdout",
     "output_type": "stream",
     "text": [
      "Baseline Micro F1: 0.5192604006163328\n",
      "Micro F1: 0.8942604006163328\n",
      "Confusion matrix, without normalization\n",
      "[[2405  291]\n",
      " [ 258 2238]]\n"
     ]
    },
    {
     "data": {
      "image/png": "[encoded data removed]",
      "text/plain": [
       "<Figure size 432x288 with 2 Axes>"
      ]
     },
     "metadata": {},
     "output_type": "display_data"
    }
   ],
   "source": [
    "from sklearn.metrics import confusion_matrix\n",
    "from sklearn.metrics import fbeta_score\n",
    "\n",
    "most_frequent = np.array([0]*len(preds))\n",
    "print(f'Baseline Micro F1: {fbeta_score(y,most_frequent,1,average=\"micro\")}')\n",
    "print(f'Micro F1: {fbeta_score(y,preds,1,average=\"micro\")}')\n",
    "cm = confusion_matrix(y,preds)\n",
    "plot_confusion_matrix(cm,classes=[1,0])"
   ]
  },
  {
   "cell_type": "markdown",
   "metadata": {},
   "source": [
    "## Benchmark with FastText"
   ]
  },
  {
   "cell_type": "markdown",
   "metadata": {},
   "source": [
    "We used [fastText](https://github.com/facebookresearch/fastText)'s own [pretrained embeddings](https://github.com/facebookresearch/fastText/blob/master/pretrained-vectors.md) and a relatively \"default\" settings in order to benchmark our results. This gave us the accuracy of 71%."
   ]
  },
  {
   "cell_type": "markdown",
   "metadata": {},
   "source": [
    "### Data Preparation"
   ]
  },
  {
   "cell_type": "code",
   "execution_count": 2,
   "metadata": {},
   "outputs": [],
   "source": [
    "df_trn = pd.read_csv(f'{DATA_PATH}train.csv',header=None)\n",
    "df_val = pd.read_csv(f'{DATA_PATH}valid.csv',header=None)"
   ]
  },
  {
   "cell_type": "code",
   "execution_count": 3,
   "metadata": {},
   "outputs": [],
   "source": [
    "train_set = []\n",
    "for i in range(df_trn.shape[0]):\n",
    "    label = df_trn.iloc[i,0]\n",
    "    line = df_trn.iloc[i,1].replace('\\n', ' ')\n",
    "    train_set.append(f'__label__{label} {line}')\n",
    "train_doc = '\\n'.join(train_set)\n",
    "with open(f'{DATA_PATH}train.txt','w') as f:\n",
    "    f.write(train_doc)"
   ]
  },
  {
   "cell_type": "code",
   "execution_count": 4,
   "metadata": {},
   "outputs": [],
   "source": [
    "valid_set = []\n",
    "for i in range(df_val.shape[0]):\n",
    "    label = df_val.iloc[i,0]\n",
    "    line = df_val.iloc[i,1].replace('\\n', ' ')\n",
    "    valid_set.append(f'__label__{label} {line}')\n",
    "valid_doc = '\\n'.join(valid_set)\n",
    "with open(f'{DATA_PATH}valid.txt','w') as f:\n",
    "    f.write(valid_doc)"
   ]
  },
  {
   "cell_type": "markdown",
   "metadata": {},
   "source": [
    "### Train fastText"
   ]
  },
  {
   "cell_type": "code",
   "execution_count": null,
   "metadata": {},
   "outputs": [
    {
     "name": "stdout",
     "output_type": "stream",
     "text": [
      "Read 0M words\n",
      "Number of words:  163451\n",
      "Number of labels: 2\n",
      "Progress: 100.0%  words/sec/thread: 572869  lr: 0.000000  loss: 0.212743  eta: 0h0m \n"
     ]
    }
   ],
   "source": [
    "!/home/ubuntu/theFastText/fastText-0.1.0/fasttext supervised -input '{DATA_PATH}train.txt' -pretrainedVectors '{MODEL_PATH}wiki.th.vec' -epoch 10 -dim 300 -wordNgrams 2 -output '{MODEL_PATH}fasttext_model'"
   ]
  },
  {
   "cell_type": "code",
   "execution_count": 6,
   "metadata": {},
   "outputs": [
    {
     "name": "stdout",
     "output_type": "stream",
     "text": [
      "N\t5192\n",
      "P@1\t0.716\n",
      "R@1\t0.716\n",
      "Number of examples: 5192\n"
     ]
    }
   ],
   "source": [
    "!/home/ubuntu/theFastText/fastText-0.1.0/fasttext test '{MODEL_PATH}fasttext_model.bin' '{DATA_PATH}valid.txt'"
   ]
  },
  {
   "cell_type": "code",
   "execution_count": null,
   "metadata": {},
   "outputs": [],
   "source": []
  }
 ],
 "metadata": {
  "kernelspec": {
   "display_name": "Python 3",
   "language": "python",
   "name": "python3"
  },
  "language_info": {
   "codemirror_mode": {
    "name": "ipython",
    "version": 3
   },
   "file_extension": ".py",
   "mimetype": "text/x-python",
   "name": "python",
   "nbconvert_exporter": "python",
   "pygments_lexer": "ipython3",
   "version": "3.6.6"
  }
 },
 "nbformat": 4,
 "nbformat_minor": 2
}
