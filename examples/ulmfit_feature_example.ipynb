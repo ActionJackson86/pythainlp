{
 "cells": [
  {
   "cell_type": "markdown",
   "metadata": {},
   "source": [
    "# Text Feature Extraction Using ULMFit\n",
    "\n",
    "\n",
    "This notebook demonstrates how to use `thai2fit` to convert Thai texts into vectors, after which said vectors can be used for various machine learning tasks such as classification, clustering, translation, question answering and so on. The idea is to train a language model that \"understands\" the texts then extract certain vectors that the model \"thinks\" represents the texts we want. We use 113,962 product reviews scraped from an ecommerce website as our sample dataset. \n",
    "\n",
    "Our workflow is as follows:\n",
    "\n",
    "* Perform 85/15 train-validation split\n",
    "* Minimal text cleaning and tokenization using `newmm` engine of `pyThaiNLP`\n",
    "* Get embeddings of ecommerce dataset from train set\n",
    "* Load pretrained Thai Wikipedia embeddings; for those embeddings which exist only in ecommerce dataset, we use the average of Wikipedia embeddings instead\n",
    "* Train language model\n",
    "* Cut out the encoder and extract vectors from there."
   ]
  },
  {
   "cell_type": "markdown",
   "metadata": {},
   "source": [
    "## Imports"
   ]
  },
  {
   "cell_type": "code",
   "execution_count": 1,
   "metadata": {},
   "outputs": [],
   "source": [
    "%reload_ext autoreload\n",
    "%autoreload 2\n",
    "%matplotlib inline\n",
    "\n",
    "import numpy as np\n",
    "import pandas as pd\n",
    "import dill as pickle\n",
    "from collections import Counter\n",
    "from pathlib import Path\n",
    "from sklearn.model_selection import train_test_split\n",
    "from tqdm import trange\n",
    "\n",
    "from fastai import *\n",
    "from fastai.text import *\n",
    "import pythainlp\n",
    "from pythainlp.ulmfit import *\n",
    "\n",
    "\n",
    "DATA_PATH='../sent_data/'\n",
    "RAW_PATH = f'{DATA_PATH}raw/'\n",
    "MODEL_PATH = f'{DATA_PATH}models/'"
   ]
  },
  {
   "cell_type": "markdown",
   "metadata": {},
   "source": [
    "## Dataset\n",
    "\n",
    "The training data consists of 29,415 reviews from unknown number of reviewers relabled by us as positive (`1`) or negative (`0`). We use 85/15 train-validation split. The validation set has 5,192 reviews. No information accuracy is 52.5%. The dataset can be downloded [here](https://www.dropbox.com/s/onrddd8h3hezccn/sent_raw.csv?dl=0).\n",
    "\n",
    "Data path structure should be\n",
    "* `sent_data`\n",
    "    * `raw`: save the file here as `sent_raw.csv`\n",
    "    * `models`: store models"
   ]
  },
  {
   "cell_type": "code",
   "execution_count": 2,
   "metadata": {},
   "outputs": [
    {
     "data": {
      "text/html": [
       "<div>\n",
       "<style scoped>\n",
       "    .dataframe tbody tr th:only-of-type {\n",
       "        vertical-align: middle;\n",
       "    }\n",
       "\n",
       "    .dataframe tbody tr th {\n",
       "        vertical-align: top;\n",
       "    }\n",
       "\n",
       "    .dataframe thead th {\n",
       "        text-align: right;\n",
       "    }\n",
       "</style>\n",
       "<table border=\"1\" class=\"dataframe\">\n",
       "  <thead>\n",
       "    <tr style=\"text-align: right;\">\n",
       "      <th></th>\n",
       "      <th>target</th>\n",
       "      <th>text</th>\n",
       "    </tr>\n",
       "  </thead>\n",
       "  <tbody>\n",
       "    <tr>\n",
       "      <th>34526</th>\n",
       "      <td>1</td>\n",
       "      <td>พึ่งไปทานมาเมื่ออาทิตย์ที่แล้ว อร่อยมากเลยค่ะ</td>\n",
       "    </tr>\n",
       "    <tr>\n",
       "      <th>34527</th>\n",
       "      <td>1</td>\n",
       "      <td>เมื่อวานไปทานที่the mall บางกะปิ พนักงานน่ารัก...</td>\n",
       "    </tr>\n",
       "    <tr>\n",
       "      <th>34528</th>\n",
       "      <td>1</td>\n",
       "      <td>กินที่บางกะปิมา พนักงานใจดีทุกคนเลย</td>\n",
       "    </tr>\n",
       "    <tr>\n",
       "      <th>34529</th>\n",
       "      <td>1</td>\n",
       "      <td>ดีมากๆเรย สาขาเซนแจ้งพนักงานเฟรนลี่ทุกคนเรย</td>\n",
       "    </tr>\n",
       "    <tr>\n",
       "      <th>34530</th>\n",
       "      <td>1</td>\n",
       "      <td>อาหารอร่อยมีให้เลือกเยอะมาก</td>\n",
       "    </tr>\n",
       "  </tbody>\n",
       "</table>\n",
       "</div>"
      ],
      "text/plain": [
       "       target                                               text\n",
       "34526       1      พึ่งไปทานมาเมื่ออาทิตย์ที่แล้ว อร่อยมากเลยค่ะ\n",
       "34527       1  เมื่อวานไปทานที่the mall บางกะปิ พนักงานน่ารัก...\n",
       "34528       1                กินที่บางกะปิมา พนักงานใจดีทุกคนเลย\n",
       "34529       1   ดีมากๆเรย สาขาเซนแจ้งพนักงานเฟรนลี่ทุกคนเรย     \n",
       "34530       1                        อาหารอร่อยมีให้เลือกเยอะมาก"
      ]
     },
     "execution_count": 2,
     "metadata": {},
     "output_type": "execute_result"
    }
   ],
   "source": [
    "df = pd.read_csv(f'{RAW_PATH}sent_raw.csv')\n",
    "df = df.drop('src',1)\n",
    "df.query('target==1').tail()"
   ]
  },
  {
   "cell_type": "code",
   "execution_count": 3,
   "metadata": {},
   "outputs": [
    {
     "data": {
      "text/html": [
       "<div>\n",
       "<style scoped>\n",
       "    .dataframe tbody tr th:only-of-type {\n",
       "        vertical-align: middle;\n",
       "    }\n",
       "\n",
       "    .dataframe tbody tr th {\n",
       "        vertical-align: top;\n",
       "    }\n",
       "\n",
       "    .dataframe thead th {\n",
       "        text-align: right;\n",
       "    }\n",
       "</style>\n",
       "<table border=\"1\" class=\"dataframe\">\n",
       "  <thead>\n",
       "    <tr style=\"text-align: right;\">\n",
       "      <th></th>\n",
       "      <th>target</th>\n",
       "      <th>text</th>\n",
       "    </tr>\n",
       "  </thead>\n",
       "  <tbody>\n",
       "    <tr>\n",
       "      <th>34602</th>\n",
       "      <td>0</td>\n",
       "      <td>เอาของเก่ามาขาย ใช้น้ำมันเก่ามาทอด ขายให้ลูกค้...</td>\n",
       "    </tr>\n",
       "    <tr>\n",
       "      <th>34603</th>\n",
       "      <td>0</td>\n",
       "      <td>แอดมินเพจทำงานแย่มากนะคะ ไม่อินบ๊อกซ์แจ้งผู้โช...</td>\n",
       "    </tr>\n",
       "    <tr>\n",
       "      <th>34604</th>\n",
       "      <td>0</td>\n",
       "      <td>ไปซื้อพิซซ่า สาขาถ.จันทร์ สั่งพิซซ่ามาสองกล่อง...</td>\n",
       "    </tr>\n",
       "    <tr>\n",
       "      <th>34605</th>\n",
       "      <td>0</td>\n",
       "      <td>พนักงานน่ายังกะส้นตีน สงสัยทะเลาะกับผัวมา พูดอ...</td>\n",
       "    </tr>\n",
       "    <tr>\n",
       "      <th>34606</th>\n",
       "      <td>0</td>\n",
       "      <td>รับปรุงด่วนเลยครับ เรื่องเวลาเสริฟให้ลูกค้า นา...</td>\n",
       "    </tr>\n",
       "  </tbody>\n",
       "</table>\n",
       "</div>"
      ],
      "text/plain": [
       "       target                                               text\n",
       "34602       0  เอาของเก่ามาขาย ใช้น้ำมันเก่ามาทอด ขายให้ลูกค้...\n",
       "34603       0  แอดมินเพจทำงานแย่มากนะคะ ไม่อินบ๊อกซ์แจ้งผู้โช...\n",
       "34604       0  ไปซื้อพิซซ่า สาขาถ.จันทร์ สั่งพิซซ่ามาสองกล่อง...\n",
       "34605       0  พนักงานน่ายังกะส้นตีน สงสัยทะเลาะกับผัวมา พูดอ...\n",
       "34606       0  รับปรุงด่วนเลยครับ เรื่องเวลาเสริฟให้ลูกค้า นา..."
      ]
     },
     "execution_count": 3,
     "metadata": {},
     "output_type": "execute_result"
    }
   ],
   "source": [
    "df.query('target==0').tail()"
   ]
  },
  {
   "cell_type": "code",
   "execution_count": 4,
   "metadata": {},
   "outputs": [
    {
     "name": "stdout",
     "output_type": "stream",
     "text": [
      "(34607, 2)\n"
     ]
    },
    {
     "data": {
      "text/plain": [
       "Counter({1: 16451, 0: 18156})"
      ]
     },
     "execution_count": 4,
     "metadata": {},
     "output_type": "execute_result"
    }
   ],
   "source": [
    "print(df.shape)\n",
    "cnt = Counter(df['target'])\n",
    "cnt"
   ]
  },
  {
   "cell_type": "code",
   "execution_count": 5,
   "metadata": {},
   "outputs": [
    {
     "data": {
      "text/plain": [
       "0.5246337446181408"
      ]
     },
     "execution_count": 5,
     "metadata": {},
     "output_type": "execute_result"
    }
   ],
   "source": [
    "#baseline\n",
    "cnt.most_common(1)[0][1] / df.shape[0]"
   ]
  },
  {
   "cell_type": "code",
   "execution_count": 6,
   "metadata": {},
   "outputs": [],
   "source": [
    "#train/validation/train_language_model split for fasttext\n",
    "df_trn, df_val = train_test_split(df, test_size = 0.15, random_state = 1412)\n",
    "\n",
    "df.to_csv(f'{DATA_PATH}df_all.csv', header=False, index=False)\n",
    "df_trn.to_csv(f'{DATA_PATH}train.csv', header=False, index=False)\n",
    "df_val.to_csv(f'{DATA_PATH}valid.csv', header=False, index=False)"
   ]
  },
  {
   "cell_type": "markdown",
   "metadata": {},
   "source": [
    "## Language Modeling"
   ]
  },
  {
   "cell_type": "markdown",
   "metadata": {},
   "source": [
    "### Text Processing"
   ]
  },
  {
   "cell_type": "markdown",
   "metadata": {},
   "source": [
    "We first determine the vocab for the reviews, then train a language model based on our training set. We perform the following  text processing:\n",
    "\n",
    "* Fix html tags to plain texts\n",
    "* Lowercase all English words and if a word is written in all caps, we put it in a lower case and add `xxup` before\n",
    "* Repetitive characters: Thai usually emphasizes adjectives by repeating the last character such as `อร่อยมากกกกกกก` to `อร่อยมาก xxrep 7 ` so that the word still retains its original form. \n",
    "* Normalize character order: for instance `นำ้` to `น้ำ`\n",
    "* Add spaces around / and #\n",
    "* Remove multiple spaces and newlines\n",
    "* Remove empty brackets of all types (`([{`) which might result from cleaning up\n",
    "* `pyThaiNLP`'s `newmm` word tokenizer with frozen dictionary (`engine ='ulmfit'`)  is used to tokenize the texts."
   ]
  },
  {
   "cell_type": "code",
   "execution_count": 7,
   "metadata": {},
   "outputs": [],
   "source": [
    "# tt = Tokenizer(tok_func = ThaiTokenizer, lang = 'th', rules = thai_rules)\n",
    "# data_lm = TextLMDataBunch.from_csv(path = Path(DATA_PATH),csv_name='df_all.csv',valid_pct=0.1,\n",
    "#                                   tokenizer=tt, vocab = None)\n",
    "# data_lm.save('sent_lm')"
   ]
  },
  {
   "cell_type": "code",
   "execution_count": 8,
   "metadata": {},
   "outputs": [],
   "source": [
    "data_lm = TextLMDataBunch.load(DATA_PATH,'sent_lm',bs=64)"
   ]
  },
  {
   "cell_type": "code",
   "execution_count": 9,
   "metadata": {},
   "outputs": [
    {
     "data": {
      "text/plain": [
       "11123"
      ]
     },
     "execution_count": 9,
     "metadata": {},
     "output_type": "execute_result"
    }
   ],
   "source": [
    "len(data_lm.vocab.itos)"
   ]
  },
  {
   "cell_type": "code",
   "execution_count": 10,
   "metadata": {},
   "outputs": [
    {
     "data": {
      "text/plain": [
       "(3461, 31145)"
      ]
     },
     "execution_count": 10,
     "metadata": {},
     "output_type": "execute_result"
    }
   ],
   "source": [
    "len(data_lm.valid_ds), len(data_lm.train_ds)"
   ]
  },
  {
   "cell_type": "markdown",
   "metadata": {},
   "source": [
    "### Load Pretrained Language Model"
   ]
  },
  {
   "cell_type": "markdown",
   "metadata": {},
   "source": [
    "Instead of starting from random weights, we import the language model pretrained on Wikipedia (see `pretrained_wiki.ipynb`). For words that appear only in the Wongnai dataset but not Wikipedia, we start with the average of all embeddings instead."
   ]
  },
  {
   "cell_type": "code",
   "execution_count": 11,
   "metadata": {},
   "outputs": [
    {
     "data": {
      "text/plain": [
       "(torch.Size([11123, 300]), 18)"
      ]
     },
     "execution_count": 11,
     "metadata": {},
     "output_type": "execute_result"
    }
   ],
   "source": [
    "#get pretrained models via pythainlp\n",
    "model_path,itos_path = pythainlp.ulmfit._THWIKI_LSTM\n",
    "\n",
    "wgts = torch.load(f'{model_path}.pth', map_location=lambda storage, loc: storage)\n",
    "itos_lstm = pickle.load(open(f'{itos_path}.pkl','rb'))\n",
    "wgts = merge_wgts(300, wgts, itos_lstm, data_lm.vocab.itos)\n",
    "wgts['0.encoder.weight'].shape, len(wgts.keys())"
   ]
  },
  {
   "cell_type": "markdown",
   "metadata": {},
   "source": [
    "### Train Domain-Specific Language Model"
   ]
  },
  {
   "cell_type": "code",
   "execution_count": 12,
   "metadata": {},
   "outputs": [],
   "source": [
    "#heuristic reference from imdb_scripts\n",
    "learn = language_model_learner(data_lm, bptt = 70, emb_sz = 300, nh = 1150, nl = 3,\n",
    "                                  drop_mult = 0.7, bias = False, qrnn = False, \n",
    "                                  alpha=2, beta = 1,\n",
    "                                  pretrained_fnames = None)\n",
    "learn.metrics = [accuracy]\n",
    "learn.opt_func = partial(optim.Adam, betas=(0.8, 0.99))\n",
    "learn.wd = 1e-7\n",
    "#VERY IMPORTANT TO LOAD PRETRAINED WEIGHTS\n",
    "learn.model.load_state_dict(wgts)"
   ]
  },
  {
   "cell_type": "markdown",
   "metadata": {},
   "source": [
    "If you want to use the QRNN version use the following `language_model_learner` instead."
   ]
  },
  {
   "cell_type": "code",
   "execution_count": 13,
   "metadata": {},
   "outputs": [],
   "source": [
    "# learn = language_model_learner(data_lm, bptt = 70, emb_sz = 400, nh = 1550, nl = 3,\n",
    "#                                   drop_mult = 0.3, bias = True, qrnn = True, \n",
    "#                                   alpha=2, beta = 1,\n",
    "#                                   pretrained_fnames = pythainlp.ulmfit._THWIKI_QRNN)\n",
    "# learn.metrics = [accuracy]\n",
    "# learn.opt_func = partial(optim.Adam, betas=(0.8, 0.99))\n",
    "# learn.wd = 1e-7"
   ]
  },
  {
   "cell_type": "code",
   "execution_count": 18,
   "metadata": {},
   "outputs": [
    {
     "name": "stdout",
     "output_type": "stream",
     "text": [
      "LR Finder is complete, type {learner_name}.recorder.plot() to see the graph.\n"
     ]
    },
    {
     "data": {
      "image/png": "[encoded data removed]",
      "text/plain": [
       "<Figure size 432x288 with 1 Axes>"
      ]
     },
     "metadata": {},
     "output_type": "display_data"
    }
   ],
   "source": [
    "learn.lr_find()\n",
    "learn.recorder.plot()"
   ]
  },
  {
   "cell_type": "code",
   "execution_count": 23,
   "metadata": {},
   "outputs": [],
   "source": [
    "#optimal learning rate and wd\n",
    "lr = 0.05 / 10\n",
    "wd = 1e-7\n",
    "learn.freeze()"
   ]
  },
  {
   "cell_type": "code",
   "execution_count": 24,
   "metadata": {},
   "outputs": [
    {
     "name": "stdout",
     "output_type": "stream",
     "text": [
      "Total time: 01:49\n",
      "epoch  train_loss  valid_loss  accuracy\n",
      "1      4.458854    4.235346    0.314211  (01:49)\n",
      "\n"
     ]
    }
   ],
   "source": [
    "#train frozen to warm up\n",
    "learn.fit_one_cycle(cyc_len = 1, \n",
    "                    max_lr= lr, #learning rate\n",
    "                    div_factor=20, #factor to discount from max\n",
    "                    moms = (0.8, 0.7), #momentums\n",
    "                    pct_start = 0.3, #where the peak is at \n",
    "                    wd = wd #weight decay\n",
    "                   ) "
   ]
  },
  {
   "cell_type": "code",
   "execution_count": 25,
   "metadata": {},
   "outputs": [
    {
     "name": "stdout",
     "output_type": "stream",
     "text": [
      "Total time: 07:00\n",
      "epoch  train_loss  valid_loss  accuracy\n",
      "1      4.118326    4.012748    0.332127  (02:20)\n",
      "2      3.875142    3.810460    0.347802  (02:19)\n",
      "3      3.633786    3.742740    0.354012  (02:20)\n",
      "\n"
     ]
    }
   ],
   "source": [
    "#train unfrozen\n",
    "learn.unfreeze()\n",
    "learn.fit_one_cycle(cyc_len = 3, \n",
    "                    max_lr= lr, #learning rate\n",
    "                    div_factor=20, #factor to discount from max\n",
    "                    moms = (0.8, 0.7), #momentums\n",
    "                    pct_start = 0.3, #where the peak is at \n",
    "                    wd = wd #weight decay\n",
    "                   ) "
   ]
  },
  {
   "cell_type": "code",
   "execution_count": 26,
   "metadata": {},
   "outputs": [
    {
     "data": {
      "image/png": "[encoded data removed]",
      "text/plain": [
       "<Figure size 432x288 with 1 Axes>"
      ]
     },
     "metadata": {},
     "output_type": "display_data"
    }
   ],
   "source": [
    "learn.recorder.plot_losses()\n",
    "learn.save('sent_lm_lstm')\n",
    "learn.save_encoder('sent_enc_lstm')"
   ]
  },
  {
   "cell_type": "markdown",
   "metadata": {},
   "source": [
    "### Eye-balling Finetuned Language Model"
   ]
  },
  {
   "cell_type": "markdown",
   "metadata": {},
   "source": [
    "In order to get a sense of how 'good' our finetuned language model is at understanding domain-specific texts, we can use the model to try predicting the next word and sentence."
   ]
  },
  {
   "cell_type": "code",
   "execution_count": 13,
   "metadata": {},
   "outputs": [
    {
     "name": "stdout",
     "output_type": "stream",
     "text": [
      "LM loaded\n"
     ]
    }
   ],
   "source": [
    "learn.load('sent_lm_lstm')\n",
    "print('LM loaded')"
   ]
  },
  {
   "cell_type": "code",
   "execution_count": 14,
   "metadata": {},
   "outputs": [
    {
     "data": {
      "text/plain": [
       "[' ', 'นะ', 'อยู่', 'ครับ', 'ค่ะ', 'ที่', 'เลย', 'มาก', 'ๆ', 'จริงๆ']"
      ]
     },
     "execution_count": 14,
     "metadata": {},
     "output_type": "execute_result"
    }
   ],
   "source": [
    "predict_word('ร้านนี้ดี',learn,data_lm, topk =10)"
   ]
  },
  {
   "cell_type": "code",
   "execution_count": 15,
   "metadata": {},
   "outputs": [
    {
     "data": {
      "text/plain": [
       "'อยู่ในซอยสุขุมวิท 7 (ซอย 7) ร้านอยู่'"
      ]
     },
     "execution_count": 15,
     "metadata": {},
     "output_type": "execute_result"
    }
   ],
   "source": [
    "''.join(predict_sentence('ร้านนี้',learn,data_lm, nb_words = 15))"
   ]
  },
  {
   "cell_type": "markdown",
   "metadata": {},
   "source": [
    "## Feature Extraction"
   ]
  },
  {
   "cell_type": "markdown",
   "metadata": {},
   "source": [
    "Note that we are converting text to vectors without teaching the model any label. Thus, similar sentence structures describing negative and positive sentiments will have \"similar\" vectors, as opposed to two different sentence structures describing the same sentiment. We use `document_vector` function from pyThaiNLP to extract a vector containing last activations from recurrent layers, their average pooling and their max pooling. This results in a vector of size 900 for LSTM and 1200 for QRNN.\n",
    "\n",
    "Note that since we have finetuned our model to the current dataset, the document vectors will contain the nuance of the dataset as well, and `document_vector` will return different sets of vectors even for the same text depending on the given contexts."
   ]
  },
  {
   "cell_type": "code",
   "execution_count": 17,
   "metadata": {},
   "outputs": [
    {
     "data": {
      "text/plain": [
       "array([ 0.164493, -0.014595, -0.408335,  0.003117, ..., -0.030505, -0.043111,  0.202248,  0.178486], dtype=float32)"
      ]
     },
     "execution_count": 17,
     "metadata": {},
     "output_type": "execute_result"
    }
   ],
   "source": [
    "document_vector('สวัสดีครับพี่น้อง',learn,data_lm)"
   ]
  },
  {
   "cell_type": "code",
   "execution_count": 18,
   "metadata": {},
   "outputs": [
    {
     "name": "stdout",
     "output_type": "stream",
     "text": [
      "Same structure; different sentiments:  0.9014295\n",
      "Different structures; same sentiment:  0.4569781\n",
      "Same structure; same sentiment:  0.79157925\n",
      "Different structures; different sentiments:  0.3976805\n"
     ]
    }
   ],
   "source": [
    "from numpy import dot\n",
    "from numpy.linalg import norm\n",
    "\n",
    "def cosine_sim(a,b):\n",
    "    return(dot(a, b)/(norm(a)*norm(b)))\n",
    "\n",
    "v1 = document_vector('สินค้าดีมาก',learn,data_lm)\n",
    "v2 = document_vector('สินค้าแย่มาก',learn,data_lm)\n",
    "v3 = document_vector('ใช้ดีมากมาย',learn,data_lm)\n",
    "v4 = document_vector('สินค้าใช้ดี',learn,data_lm)\n",
    "\n",
    "print('Same structure; different sentiments: ',cosine_sim(v1,v2))\n",
    "print('Different structures; same sentiment: ',cosine_sim(v1,v3))\n",
    "print('Same structure; same sentiment: ',cosine_sim(v1,v4))\n",
    "print('Different structures; different sentiments: ',cosine_sim(v3,v2))"
   ]
  },
  {
   "cell_type": "markdown",
   "metadata": {},
   "source": [
    "## Clustering"
   ]
  },
  {
   "cell_type": "markdown",
   "metadata": {},
   "source": [
    "In cases where we do not know any labels to our data and want to group them solely on their semantic meanings, we can use the features extracted to perform clustering algorithms such as K-means. "
   ]
  },
  {
   "cell_type": "code",
   "execution_count": 19,
   "metadata": {},
   "outputs": [
    {
     "data": {
      "text/plain": [
       "Counter({0: 2696, 1: 2496})"
      ]
     },
     "execution_count": 19,
     "metadata": {},
     "output_type": "execute_result"
    }
   ],
   "source": [
    "df_val = pd.read_csv(f'{DATA_PATH}valid.csv', header=None)\n",
    "df_val.columns = ['label','text']\n",
    "Counter(df_val['label'])"
   ]
  },
  {
   "cell_type": "code",
   "execution_count": 20,
   "metadata": {},
   "outputs": [
    {
     "name": "stderr",
     "output_type": "stream",
     "text": [
      "100%|██████████| 5192/5192 [02:10<00:00, 39.73it/s]\n"
     ]
    }
   ],
   "source": [
    "#get all vectors from validation texts\n",
    "vec_val = []\n",
    "for i in trange(df_val.shape[0]):\n",
    "    vec_val.append(document_vector(df_val.iloc[i,1],learn,data_lm).reshape(1,-1))"
   ]
  },
  {
   "cell_type": "code",
   "execution_count": 21,
   "metadata": {},
   "outputs": [
    {
     "data": {
      "text/html": [
       "<div>\n",
       "<style scoped>\n",
       "    .dataframe tbody tr th:only-of-type {\n",
       "        vertical-align: middle;\n",
       "    }\n",
       "\n",
       "    .dataframe tbody tr th {\n",
       "        vertical-align: top;\n",
       "    }\n",
       "\n",
       "    .dataframe thead th {\n",
       "        text-align: right;\n",
       "    }\n",
       "</style>\n",
       "<table border=\"1\" class=\"dataframe\">\n",
       "  <thead>\n",
       "    <tr style=\"text-align: right;\">\n",
       "      <th></th>\n",
       "      <th>0</th>\n",
       "      <th>1</th>\n",
       "      <th>2</th>\n",
       "      <th>3</th>\n",
       "      <th>4</th>\n",
       "      <th>5</th>\n",
       "      <th>6</th>\n",
       "      <th>7</th>\n",
       "      <th>8</th>\n",
       "      <th>9</th>\n",
       "      <th>...</th>\n",
       "      <th>890</th>\n",
       "      <th>891</th>\n",
       "      <th>892</th>\n",
       "      <th>893</th>\n",
       "      <th>894</th>\n",
       "      <th>895</th>\n",
       "      <th>896</th>\n",
       "      <th>897</th>\n",
       "      <th>898</th>\n",
       "      <th>899</th>\n",
       "    </tr>\n",
       "  </thead>\n",
       "  <tbody>\n",
       "    <tr>\n",
       "      <th>0</th>\n",
       "      <td>0.535097</td>\n",
       "      <td>-0.136197</td>\n",
       "      <td>-0.446185</td>\n",
       "      <td>0.044141</td>\n",
       "      <td>-0.067302</td>\n",
       "      <td>-0.194638</td>\n",
       "      <td>-0.279915</td>\n",
       "      <td>0.376325</td>\n",
       "      <td>-0.036828</td>\n",
       "      <td>0.088226</td>\n",
       "      <td>...</td>\n",
       "      <td>0.481268</td>\n",
       "      <td>0.449106</td>\n",
       "      <td>0.814791</td>\n",
       "      <td>0.693734</td>\n",
       "      <td>0.086659</td>\n",
       "      <td>0.441821</td>\n",
       "      <td>0.007179</td>\n",
       "      <td>0.079492</td>\n",
       "      <td>0.186464</td>\n",
       "      <td>0.298810</td>\n",
       "    </tr>\n",
       "    <tr>\n",
       "      <th>1</th>\n",
       "      <td>-0.054634</td>\n",
       "      <td>-0.029481</td>\n",
       "      <td>-0.197969</td>\n",
       "      <td>-0.012869</td>\n",
       "      <td>-0.026535</td>\n",
       "      <td>0.113078</td>\n",
       "      <td>-0.095109</td>\n",
       "      <td>0.072160</td>\n",
       "      <td>0.145629</td>\n",
       "      <td>-0.147927</td>\n",
       "      <td>...</td>\n",
       "      <td>0.385223</td>\n",
       "      <td>0.736862</td>\n",
       "      <td>0.483078</td>\n",
       "      <td>0.634107</td>\n",
       "      <td>0.305172</td>\n",
       "      <td>0.510675</td>\n",
       "      <td>0.078501</td>\n",
       "      <td>0.304583</td>\n",
       "      <td>0.634858</td>\n",
       "      <td>0.375618</td>\n",
       "    </tr>\n",
       "    <tr>\n",
       "      <th>2</th>\n",
       "      <td>0.217892</td>\n",
       "      <td>0.031436</td>\n",
       "      <td>-0.235141</td>\n",
       "      <td>0.006175</td>\n",
       "      <td>-0.025394</td>\n",
       "      <td>0.353443</td>\n",
       "      <td>-0.040134</td>\n",
       "      <td>0.139958</td>\n",
       "      <td>0.262123</td>\n",
       "      <td>-0.157336</td>\n",
       "      <td>...</td>\n",
       "      <td>0.334385</td>\n",
       "      <td>0.597433</td>\n",
       "      <td>0.510765</td>\n",
       "      <td>0.252306</td>\n",
       "      <td>0.270148</td>\n",
       "      <td>0.236903</td>\n",
       "      <td>-0.008031</td>\n",
       "      <td>0.204350</td>\n",
       "      <td>0.355950</td>\n",
       "      <td>0.305278</td>\n",
       "    </tr>\n",
       "    <tr>\n",
       "      <th>3</th>\n",
       "      <td>0.167002</td>\n",
       "      <td>0.021036</td>\n",
       "      <td>-0.118601</td>\n",
       "      <td>-0.013135</td>\n",
       "      <td>-0.059470</td>\n",
       "      <td>0.015602</td>\n",
       "      <td>-0.032816</td>\n",
       "      <td>-0.049858</td>\n",
       "      <td>0.408519</td>\n",
       "      <td>-0.113144</td>\n",
       "      <td>...</td>\n",
       "      <td>0.182875</td>\n",
       "      <td>0.029839</td>\n",
       "      <td>0.214211</td>\n",
       "      <td>0.145959</td>\n",
       "      <td>0.240836</td>\n",
       "      <td>0.295539</td>\n",
       "      <td>-0.008271</td>\n",
       "      <td>0.098850</td>\n",
       "      <td>-0.075945</td>\n",
       "      <td>0.315242</td>\n",
       "    </tr>\n",
       "    <tr>\n",
       "      <th>4</th>\n",
       "      <td>0.035824</td>\n",
       "      <td>0.037528</td>\n",
       "      <td>-0.362803</td>\n",
       "      <td>0.009906</td>\n",
       "      <td>-0.042432</td>\n",
       "      <td>0.067377</td>\n",
       "      <td>-0.328328</td>\n",
       "      <td>0.173686</td>\n",
       "      <td>0.066588</td>\n",
       "      <td>-0.131918</td>\n",
       "      <td>...</td>\n",
       "      <td>0.322763</td>\n",
       "      <td>0.457890</td>\n",
       "      <td>0.396951</td>\n",
       "      <td>0.690606</td>\n",
       "      <td>0.463087</td>\n",
       "      <td>0.520510</td>\n",
       "      <td>0.083669</td>\n",
       "      <td>0.433494</td>\n",
       "      <td>0.474859</td>\n",
       "      <td>0.228083</td>\n",
       "    </tr>\n",
       "  </tbody>\n",
       "</table>\n",
       "<p>5 rows × 900 columns</p>\n",
       "</div>"
      ],
      "text/plain": [
       "        0         1         2         3         4         5         6    \\\n",
       "0  0.535097 -0.136197 -0.446185  0.044141 -0.067302 -0.194638 -0.279915   \n",
       "1 -0.054634 -0.029481 -0.197969 -0.012869 -0.026535  0.113078 -0.095109   \n",
       "2  0.217892  0.031436 -0.235141  0.006175 -0.025394  0.353443 -0.040134   \n",
       "3  0.167002  0.021036 -0.118601 -0.013135 -0.059470  0.015602 -0.032816   \n",
       "4  0.035824  0.037528 -0.362803  0.009906 -0.042432  0.067377 -0.328328   \n",
       "\n",
       "        7         8         9      ...          890       891       892  \\\n",
       "0  0.376325 -0.036828  0.088226    ...     0.481268  0.449106  0.814791   \n",
       "1  0.072160  0.145629 -0.147927    ...     0.385223  0.736862  0.483078   \n",
       "2  0.139958  0.262123 -0.157336    ...     0.334385  0.597433  0.510765   \n",
       "3 -0.049858  0.408519 -0.113144    ...     0.182875  0.029839  0.214211   \n",
       "4  0.173686  0.066588 -0.131918    ...     0.322763  0.457890  0.396951   \n",
       "\n",
       "        893       894       895       896       897       898       899  \n",
       "0  0.693734  0.086659  0.441821  0.007179  0.079492  0.186464  0.298810  \n",
       "1  0.634107  0.305172  0.510675  0.078501  0.304583  0.634858  0.375618  \n",
       "2  0.252306  0.270148  0.236903 -0.008031  0.204350  0.355950  0.305278  \n",
       "3  0.145959  0.240836  0.295539 -0.008271  0.098850 -0.075945  0.315242  \n",
       "4  0.690606  0.463087  0.520510  0.083669  0.433494  0.474859  0.228083  \n",
       "\n",
       "[5 rows x 900 columns]"
      ]
     },
     "execution_count": 21,
     "metadata": {},
     "output_type": "execute_result"
    }
   ],
   "source": [
    "cluster_val = pd.DataFrame(np.concatenate(vec_val,axis=0))\n",
    "cluster_val.head()"
   ]
  },
  {
   "cell_type": "code",
   "execution_count": 22,
   "metadata": {},
   "outputs": [
    {
     "name": "stderr",
     "output_type": "stream",
     "text": [
      "100%|██████████| 28/28 [03:53<00:00,  8.34s/it]\n"
     ]
    },
    {
     "data": {
      "text/plain": [
       "[<matplotlib.lines.Line2D at 0x7f85a03e8ef0>]"
      ]
     },
     "execution_count": 22,
     "metadata": {},
     "output_type": "execute_result"
    },
    {
     "data": {
      "image/png": "[encoded data removed]",
      "text/plain": [
       "<Figure size 1080x360 with 1 Axes>"
      ]
     },
     "metadata": {},
     "output_type": "display_data"
    }
   ],
   "source": [
    "#find optimal number of clusters\n",
    "from sklearn.cluster import KMeans\n",
    "\n",
    "inertia = []\n",
    "for k in trange(2, 30):\n",
    "    kmeans = KMeans(n_clusters=k)\n",
    "    kmeans.fit(cluster_val)\n",
    "    inertia.append(kmeans.inertia_)\n",
    "\n",
    "fig = plt.figure(figsize=(15, 5))\n",
    "plt.plot(range(2, 30), inertia)"
   ]
  },
  {
   "cell_type": "code",
   "execution_count": 27,
   "metadata": {},
   "outputs": [
    {
     "data": {
      "text/plain": [
       "KMeans(algorithm='auto', copy_x=True, init='k-means++', max_iter=300,\n",
       "    n_clusters=5, n_init=10, n_jobs=1, precompute_distances='auto',\n",
       "    random_state=None, tol=0.0001, verbose=0)"
      ]
     },
     "execution_count": 27,
     "metadata": {},
     "output_type": "execute_result"
    }
   ],
   "source": [
    "kmeans = KMeans(n_clusters=5)\n",
    "kmeans.fit(cluster_val)"
   ]
  },
  {
   "cell_type": "code",
   "execution_count": 28,
   "metadata": {},
   "outputs": [
    {
     "data": {
      "text/plain": [
       "Counter({2: 764, 4: 1563, 3: 1165, 1: 967, 0: 733})"
      ]
     },
     "execution_count": 28,
     "metadata": {},
     "output_type": "execute_result"
    }
   ],
   "source": [
    "Counter(kmeans.labels_)"
   ]
  },
  {
   "cell_type": "code",
   "execution_count": 29,
   "metadata": {},
   "outputs": [],
   "source": [
    "df_val['kmeans_lab']=kmeans.labels_"
   ]
  },
  {
   "cell_type": "code",
   "execution_count": 34,
   "metadata": {},
   "outputs": [
    {
     "data": {
      "text/html": [
       "<div>\n",
       "<style scoped>\n",
       "    .dataframe tbody tr th:only-of-type {\n",
       "        vertical-align: middle;\n",
       "    }\n",
       "\n",
       "    .dataframe tbody tr th {\n",
       "        vertical-align: top;\n",
       "    }\n",
       "\n",
       "    .dataframe thead th {\n",
       "        text-align: right;\n",
       "    }\n",
       "</style>\n",
       "<table border=\"1\" class=\"dataframe\">\n",
       "  <thead>\n",
       "    <tr style=\"text-align: right;\">\n",
       "      <th></th>\n",
       "      <th>label</th>\n",
       "      <th>text</th>\n",
       "      <th>kmeans_lab</th>\n",
       "    </tr>\n",
       "  </thead>\n",
       "  <tbody>\n",
       "    <tr>\n",
       "      <th>6</th>\n",
       "      <td>0</td>\n",
       "      <td>ส่งช้ามากๆๆๆๆ10วันกว่าของจะถึง</td>\n",
       "      <td>1</td>\n",
       "    </tr>\n",
       "    <tr>\n",
       "      <th>8</th>\n",
       "      <td>0</td>\n",
       "      <td>อยากรุ</td>\n",
       "      <td>1</td>\n",
       "    </tr>\n",
       "    <tr>\n",
       "      <th>33</th>\n",
       "      <td>0</td>\n",
       "      <td>สีสวยแต่ไม่ทนค่ะ</td>\n",
       "      <td>1</td>\n",
       "    </tr>\n",
       "    <tr>\n",
       "      <th>34</th>\n",
       "      <td>0</td>\n",
       "      <td>ผัดวันประกันพรุ่ง</td>\n",
       "      <td>1</td>\n",
       "    </tr>\n",
       "    <tr>\n",
       "      <th>36</th>\n",
       "      <td>0</td>\n",
       "      <td>เลยไม่รู้จะอธิบายยังไง</td>\n",
       "      <td>1</td>\n",
       "    </tr>\n",
       "  </tbody>\n",
       "</table>\n",
       "</div>"
      ],
      "text/plain": [
       "    label                             text  kmeans_lab\n",
       "6       0  ส่งช้ามากๆๆๆๆ10วันกว่าของจะถึง            1\n",
       "8       0                          อยากรุ            1\n",
       "33      0                สีสวยแต่ไม่ทนค่ะ            1\n",
       "34      0                ผัดวันประกันพรุ่ง           1\n",
       "36      0          เลยไม่รู้จะอธิบายยังไง            1"
      ]
     },
     "execution_count": 34,
     "metadata": {},
     "output_type": "execute_result"
    }
   ],
   "source": [
    "#bad reviews\n",
    "df_val.query('kmeans_lab==1').head()"
   ]
  },
  {
   "cell_type": "code",
   "execution_count": 35,
   "metadata": {},
   "outputs": [
    {
     "data": {
      "text/html": [
       "<div>\n",
       "<style scoped>\n",
       "    .dataframe tbody tr th:only-of-type {\n",
       "        vertical-align: middle;\n",
       "    }\n",
       "\n",
       "    .dataframe tbody tr th {\n",
       "        vertical-align: top;\n",
       "    }\n",
       "\n",
       "    .dataframe thead th {\n",
       "        text-align: right;\n",
       "    }\n",
       "</style>\n",
       "<table border=\"1\" class=\"dataframe\">\n",
       "  <thead>\n",
       "    <tr style=\"text-align: right;\">\n",
       "      <th></th>\n",
       "      <th>label</th>\n",
       "      <th>text</th>\n",
       "      <th>kmeans_lab</th>\n",
       "    </tr>\n",
       "  </thead>\n",
       "  <tbody>\n",
       "    <tr>\n",
       "      <th>2</th>\n",
       "      <td>1</td>\n",
       "      <td>ของส่งเร็วคะ สวยเหมือนในรูป แนะนำเลยคะ</td>\n",
       "      <td>3</td>\n",
       "    </tr>\n",
       "    <tr>\n",
       "      <th>3</th>\n",
       "      <td>1</td>\n",
       "      <td>สวย เบา ดีครับ</td>\n",
       "      <td>3</td>\n",
       "    </tr>\n",
       "    <tr>\n",
       "      <th>5</th>\n",
       "      <td>1</td>\n",
       "      <td>มันดีมากครับ ใส่สบายเเถมกันนำ้ด้วย มันเยี่ยมมา...</td>\n",
       "      <td>3</td>\n",
       "    </tr>\n",
       "    <tr>\n",
       "      <th>9</th>\n",
       "      <td>1</td>\n",
       "      <td>คุ้มค่า ได้รับของเร็วและครบ</td>\n",
       "      <td>3</td>\n",
       "    </tr>\n",
       "    <tr>\n",
       "      <th>12</th>\n",
       "      <td>1</td>\n",
       "      <td>มีคุณภาพค่ะ</td>\n",
       "      <td>3</td>\n",
       "    </tr>\n",
       "  </tbody>\n",
       "</table>\n",
       "</div>"
      ],
      "text/plain": [
       "    label                                               text  kmeans_lab\n",
       "2       1            ของส่งเร็วคะ สวยเหมือนในรูป แนะนำเลยคะ            3\n",
       "3       1                                    สวย เบา ดีครับ            3\n",
       "5       1  มันดีมากครับ ใส่สบายเเถมกันนำ้ด้วย มันเยี่ยมมา...           3\n",
       "9       1                       คุ้มค่า ได้รับของเร็วและครบ            3\n",
       "12      1                                       มีคุณภาพค่ะ            3"
      ]
     },
     "execution_count": 35,
     "metadata": {},
     "output_type": "execute_result"
    }
   ],
   "source": [
    "#good reviews\n",
    "df_val.query('kmeans_lab==3').head()"
   ]
  },
  {
   "cell_type": "code",
   "execution_count": null,
   "metadata": {},
   "outputs": [],
   "source": []
  }
 ],
 "metadata": {
  "kernelspec": {
   "display_name": "Python 3",
   "language": "python",
   "name": "python3"
  },
  "language_info": {
   "codemirror_mode": {
    "name": "ipython",
    "version": 3
   },
   "file_extension": ".py",
   "mimetype": "text/x-python",
   "name": "python",
   "nbconvert_exporter": "python",
   "pygments_lexer": "ipython3",
   "version": "3.6.6"
  }
 },
 "nbformat": 4,
 "nbformat_minor": 2
}
